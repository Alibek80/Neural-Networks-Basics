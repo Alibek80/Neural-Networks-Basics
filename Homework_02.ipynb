{
 "cells": [
  {
   "cell_type": "markdown",
   "metadata": {},
   "source": [
    "1.  Попробуйте обучить нейронную сеть на Keras на Fashion-MNIST датасете. \n",
    "Опишите в комментарии к уроку - какой результата вы добились от нейросети? Что помогло вам улучшить ее точность?\n",
    "\n",
    "2. Поработайте с документацией Keras."
   ]
  },
  {
   "cell_type": "code",
   "execution_count": 3,
   "metadata": {},
   "outputs": [
    {
     "name": "stderr",
     "output_type": "stream",
     "text": [
      "Using TensorFlow backend.\n"
     ]
    }
   ],
   "source": [
    "import numpy as np\n",
    "from keras.datasets import mnist\n",
    "\n",
    "(train_images, train_labels), (test_images, test_labels) = mnist.load_data()"
   ]
  },
  {
   "cell_type": "code",
   "execution_count": 4,
   "metadata": {},
   "outputs": [],
   "source": [
    "from tensorflow.python.client import device_lib\n",
    "\n",
    "def get_available_gpus():\n",
    "    local_device_protos = device_lib.list_local_devices()\n",
    "    return [x.name for x in local_device_protos if x.device_type == 'GPU']"
   ]
  },
  {
   "cell_type": "code",
   "execution_count": 5,
   "metadata": {},
   "outputs": [
    {
     "name": "stdout",
     "output_type": "stream",
     "text": [
      "(60000, 784)\n",
      "(10000, 784)\n"
     ]
    }
   ],
   "source": [
    "# Normalize the images.\n",
    "train_images = (train_images / 255) - 0.5\n",
    "test_images = (test_images / 255) - 0.5\n",
    "\n",
    "# Flatten the images.\n",
    "train_images = train_images.reshape((-1, 784))\n",
    "test_images = test_images.reshape((-1, 784))\n",
    "\n",
    "print(train_images.shape) # (60000, 784)\n",
    "print(test_images.shape)  # (10000, 784)"
   ]
  },
  {
   "cell_type": "code",
   "execution_count": 6,
   "metadata": {},
   "outputs": [],
   "source": [
    "from keras.models import Sequential\n",
    "from keras.layers import Dense, Dropout\n",
    "from keras.utils import to_categorical"
   ]
  },
  {
   "cell_type": "code",
   "execution_count": 7,
   "metadata": {},
   "outputs": [],
   "source": [
    "# Build the model.\n",
    "model = Sequential([\n",
    "  Dense(512, activation='relu', input_shape=(784,)),\n",
    "  Dropout(0.25),  \n",
    "  Dense(512, activation='sigmoid'),\n",
    "  Dropout(0.25),\n",
    "  Dense(256, activation='relu'),\n",
    "  Dropout(0.25),    \n",
    "  Dense(10, activation='softmax'),\n",
    "])"
   ]
  },
  {
   "cell_type": "code",
   "execution_count": 8,
   "metadata": {},
   "outputs": [],
   "source": [
    "# Compile the model.\n",
    "model.compile(\n",
    "  optimizer='adam',\n",
    "  loss='categorical_crossentropy',\n",
    "  metrics=['accuracy'],\n",
    ")"
   ]
  },
  {
   "cell_type": "code",
   "execution_count": null,
   "metadata": {
    "scrolled": true
   },
   "outputs": [
    {
     "name": "stdout",
     "output_type": "stream",
     "text": [
      "Epoch 1/25\n",
      "60000/60000 [==============================] - 2s 37us/step - loss: 0.5640 - accuracy: 0.8184\n",
      "Epoch 2/25\n",
      "60000/60000 [==============================] - 2s 28us/step - loss: 0.2266 - accuracy: 0.9316\n",
      "Epoch 3/25\n",
      "60000/60000 [==============================] - 2s 28us/step - loss: 0.1674 - accuracy: 0.9493\n",
      "Epoch 4/25\n",
      "60000/60000 [==============================] - 2s 27us/step - loss: 0.1403 - accuracy: 0.9574\n",
      "Epoch 5/25\n",
      "60000/60000 [==============================] - 2s 28us/step - loss: 0.1189 - accuracy: 0.9637\n",
      "Epoch 6/25\n",
      "60000/60000 [==============================] - 2s 27us/step - loss: 0.1061 - accuracy: 0.9678\n",
      "Epoch 7/25\n",
      "60000/60000 [==============================] - 2s 28us/step - loss: 0.0966 - accuracy: 0.9698\n",
      "Epoch 8/25\n",
      "60000/60000 [==============================] - 2s 28us/step - loss: 0.0870 - accuracy: 0.9725\n",
      "Epoch 9/25\n",
      "60000/60000 [==============================] - 2s 28us/step - loss: 0.0817 - accuracy: 0.9735\n",
      "Epoch 10/25\n",
      "60000/60000 [==============================] - 2s 29us/step - loss: 0.0727 - accuracy: 0.9773\n",
      "Epoch 11/25\n",
      "60000/60000 [==============================] - 2s 29us/step - loss: 0.0690 - accuracy: 0.9786\n",
      "Epoch 12/25\n",
      "60000/60000 [==============================] - 2s 28us/step - loss: 0.0636 - accuracy: 0.9792\n",
      "Epoch 13/25\n",
      "60000/60000 [==============================] - 2s 28us/step - loss: 0.0623 - accuracy: 0.9805\n",
      "Epoch 14/25\n",
      "60000/60000 [==============================] - 2s 28us/step - loss: 0.0602 - accuracy: 0.9811\n",
      "Epoch 15/25\n",
      "60000/60000 [==============================] - 2s 29us/step - loss: 0.0551 - accuracy: 0.9823\n",
      "Epoch 16/25\n",
      "60000/60000 [==============================] - 2s 28us/step - loss: 0.0518 - accuracy: 0.9834\n",
      "Epoch 17/25\n",
      "60000/60000 [==============================] - 2s 28us/step - loss: 0.0498 - accuracy: 0.9834\n",
      "Epoch 18/25\n",
      "60000/60000 [==============================] - 2s 27us/step - loss: 0.0485 - accuracy: 0.9840\n",
      "Epoch 19/25\n",
      "60000/60000 [==============================] - 2s 28us/step - loss: 0.0465 - accuracy: 0.9847\n",
      "Epoch 20/25\n",
      "60000/60000 [==============================] - 2s 28us/step - loss: 0.0426 - accuracy: 0.9857\n",
      "Epoch 21/25\n",
      "60000/60000 [==============================] - 2s 27us/step - loss: 0.0436 - accuracy: 0.9859\n",
      "Epoch 22/25\n",
      "60000/60000 [==============================] - 2s 27us/step - loss: 0.0414 - accuracy: 0.9861\n",
      "Epoch 23/25\n",
      "58112/60000 [============================>.] - ETA: 0s - loss: 0.0388 - accuracy: 0.9870"
     ]
    }
   ],
   "source": [
    "# Train the model.\n",
    "model.fit(\n",
    "  train_images,\n",
    "  to_categorical(train_labels),\n",
    "  epochs=25,\n",
    "  batch_size=256,\n",
    ")"
   ]
  },
  {
   "cell_type": "code",
   "execution_count": 98,
   "metadata": {},
   "outputs": [
    {
     "name": "stdout",
     "output_type": "stream",
     "text": [
      "10000/10000 [==============================] - 1s 82us/step\n"
     ]
    },
    {
     "data": {
      "text/plain": [
       "[0.07100856108287262, 0.9801999926567078]"
      ]
     },
     "execution_count": 98,
     "metadata": {},
     "output_type": "execute_result"
    }
   ],
   "source": [
    "# Evaluate the model.\n",
    "model.evaluate(\n",
    "  test_images,\n",
    "  to_categorical(test_labels)\n",
    ")\n",
    "\n"
   ]
  },
  {
   "cell_type": "code",
   "execution_count": 99,
   "metadata": {},
   "outputs": [],
   "source": [
    "# Save the model to disk.\n",
    "model.save_weights('model.h5')\n",
    "\n"
   ]
  },
  {
   "cell_type": "code",
   "execution_count": 100,
   "metadata": {},
   "outputs": [],
   "source": [
    "# Load the model from disk later using:\n",
    "# model.load_weights('model.h5')\n",
    "\n"
   ]
  },
  {
   "cell_type": "code",
   "execution_count": 101,
   "metadata": {},
   "outputs": [
    {
     "name": "stdout",
     "output_type": "stream",
     "text": [
      "[7 2 1 0 4 1 4 9 5 9]\n",
      "[7 2 1 0 4 1 4 9 5 9]\n"
     ]
    }
   ],
   "source": [
    "# Predict on the first 5 test images.\n",
    "predictions = model.predict(test_images[:10])\n",
    "\n",
    "# Print our model's predictions.\n",
    "print(np.argmax(predictions, axis=1)) # [7, 2, 1, 0, 4]\n",
    "\n",
    "# Check our predictions against the ground truths.\n",
    "print(test_labels[:10]) # [7, 2, 1, 0, 4]"
   ]
  },
  {
   "cell_type": "markdown",
   "metadata": {},
   "source": [
    "Изменил модель следующим образом:\n",
    "- добавил дополнительно один слой,\n",
    "- в каждом из слоев увеличил количество нейронов,\n",
    "- добавил Dropout-ы, чтобы снизить переобучение,\n",
    "- увеличил количество эпох при обучении,\n",
    "- увеличил размер batch.\n",
    "Наибольший эффект дает увеличение количества эпох."
   ]
  },
  {
   "cell_type": "code",
   "execution_count": null,
   "metadata": {},
   "outputs": [],
   "source": []
  }
 ],
 "metadata": {
  "kernelspec": {
   "display_name": "Python 3",
   "language": "python",
   "name": "python3"
  },
  "language_info": {
   "codemirror_mode": {
    "name": "ipython",
    "version": 3
   },
   "file_extension": ".py",
   "mimetype": "text/x-python",
   "name": "python",
   "nbconvert_exporter": "python",
   "pygments_lexer": "ipython3",
   "version": "3.7.6"
  }
 },
 "nbformat": 4,
 "nbformat_minor": 2
}
